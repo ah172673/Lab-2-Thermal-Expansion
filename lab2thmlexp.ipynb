{
 "cells": [
  {
   "cell_type": "markdown",
   "metadata": {},
   "source": [
    "Ashley Hilferty (Thermal Expansion Lab)\n",
    "\n",
    "Copper data"
   ]
  },
  {
   "cell_type": "code",
   "execution_count": 2,
   "metadata": {},
   "outputs": [],
   "source": [
    "import numpy as np\n",
    "\n",
    "def rule3(errA,errB):\n",
    "    errQ = np.sqrt(errA**2 + errB**2)\n",
    "    return errQ"
   ]
  },
  {
   "cell_type": "code",
   "execution_count": 8,
   "metadata": {},
   "outputs": [
    {
     "name": "stdout",
     "output_type": "stream",
     "text": [
      "0.425440947723653\n"
     ]
    }
   ],
   "source": [
    "errT_i = .17 #C\n",
    "errT_f = .39 #C\n",
    "\n",
    "err_Delta_T = rule3(errT_i, errT_f)\n",
    "\n",
    "print (err_Delta_T)"
   ]
  },
  {
   "cell_type": "markdown",
   "metadata": {},
   "source": [
    "ΔL=αLΔT\n",
    "\n",
    "$\\alpha = \\frac{\\Delta L}{L \\Delta T}$\n"
   ]
  },
  {
   "cell_type": "code",
   "execution_count": 4,
   "metadata": {},
   "outputs": [],
   "source": [
    "def Thermal_Expansion(h,g,f):\n",
    "    fish = h*g**-1*f**-1\n",
    "    return fish"
   ]
  },
  {
   "cell_type": "code",
   "execution_count": 10,
   "metadata": {},
   "outputs": [
    {
     "name": "stdout",
     "output_type": "stream",
     "text": [
      "1.9189580676711276e-05\n"
     ]
    }
   ],
   "source": [
    "DeltaLength = .000837 #m\n",
    "Length = .6930 #m\n",
    "DeltaT = 89.87-26.93 #degreesC\n",
    "\n",
    "alpha = Thermal_Expansion(DeltaLength, Length, DeltaT)\n",
    "\n",
    "print (alpha)\n"
   ]
  },
  {
   "cell_type": "code",
   "execution_count": 6,
   "metadata": {},
   "outputs": [],
   "source": [
    "def rule4(Q, m, errA, A, n, errB, B, o, errC, C):\n",
    "    errQ4 = Q*np.sqrt((m*errA/A)**2 + (n*errB/B)**2 + (o*errC/C)**2)\n",
    "    return errQ4"
   ]
  },
  {
   "cell_type": "code",
   "execution_count": 11,
   "metadata": {},
   "outputs": [
    {
     "name": "stdout",
     "output_type": "stream",
     "text": [
      "1.7365908559558732e-07\n"
     ]
    }
   ],
   "source": [
    "alph = 1.9189580676711276e-05\n",
    "m = 1\n",
    "errDL = .000005 #m\n",
    "DL = .000837 #m\n",
    "n = -1\n",
    "errL = .0005 #m \n",
    "L = .6930 #m\n",
    "o = -1\n",
    "errDT = 0.425440947723653 #degreesC\n",
    "DT = 89.87-26.93 #degreesC\n",
    "\n",
    "Delta_alpha = rule4(alph, m, errDL, DL, n, errL, L, o, errDT, DT)\n",
    "\n",
    "print (Delta_alpha)"
   ]
  },
  {
   "cell_type": "markdown",
   "metadata": {},
   "source": [
    "Aluminum Data"
   ]
  },
  {
   "cell_type": "code",
   "execution_count": 12,
   "metadata": {},
   "outputs": [],
   "source": [
    "import numpy as np\n",
    "\n",
    "def rule3(errA,errB):\n",
    "    errQ = np.sqrt(errA**2 + errB**2)\n",
    "    return errQ"
   ]
  },
  {
   "cell_type": "code",
   "execution_count": 18,
   "metadata": {},
   "outputs": [
    {
     "name": "stdout",
     "output_type": "stream",
     "text": [
      "0.33376638536557274\n"
     ]
    }
   ],
   "source": [
    "errT_i = .05 #C\n",
    "errT_f = .33 #C\n",
    "\n",
    "err_Delta_T = rule3(errT_i, errT_f)\n",
    "\n",
    "print (err_Delta_T)"
   ]
  },
  {
   "cell_type": "code",
   "execution_count": 14,
   "metadata": {},
   "outputs": [],
   "source": [
    "def Thermal_Expansion(h,g,f):\n",
    "    fish = h*g**-1*f**-1\n",
    "    return fish\n"
   ]
  },
  {
   "cell_type": "code",
   "execution_count": 19,
   "metadata": {},
   "outputs": [
    {
     "name": "stdout",
     "output_type": "stream",
     "text": [
      "2.6722637187014353e-05\n"
     ]
    }
   ],
   "source": [
    "DeltaLength = .001133 #m\n",
    "Length = .6970 #m\n",
    "DeltaT = 88.46-27.63 #degreesC\n",
    "\n",
    "alpha = Thermal_Expansion(DeltaLength, Length, DeltaT)\n",
    "\n",
    "print (alpha)\n"
   ]
  },
  {
   "cell_type": "code",
   "execution_count": 16,
   "metadata": {},
   "outputs": [],
   "source": [
    "def rule4(Q, m, errA, A, n, errB, B, o, errC, C):\n",
    "    errQ4 = Q*np.sqrt((m*errA/A)**2 + (n*errB/B)**2 + (o*errC/C)**2)\n",
    "    return errQ4"
   ]
  },
  {
   "cell_type": "code",
   "execution_count": 20,
   "metadata": {},
   "outputs": [
    {
     "name": "stdout",
     "output_type": "stream",
     "text": [
      "1.89137919827374e-07\n"
     ]
    }
   ],
   "source": [
    "alph = 2.6722637187014353e-05\n",
    "m = 1\n",
    "errDL = .000005 #m\n",
    "DL = .001133 #m\n",
    "n = -1\n",
    "errL = .0005 #m \n",
    "L = .6970 #m\n",
    "o = -1\n",
    "errDT = 0.33376638536557274 #degreesC\n",
    "DT = 88.46-27.63 #degreesC\n",
    "\n",
    "Delta_alpha = rule4(alph, m, errDL, DL, n, errL, L, o, errDT, DT)\n",
    "\n",
    "print (Delta_alpha)"
   ]
  },
  {
   "cell_type": "code",
   "execution_count": null,
   "metadata": {},
   "outputs": [],
   "source": []
  }
 ],
 "metadata": {
  "kernelspec": {
   "display_name": "Python 3",
   "language": "python",
   "name": "python3"
  },
  "language_info": {
   "codemirror_mode": {
    "name": "ipython",
    "version": 3
   },
   "file_extension": ".py",
   "mimetype": "text/x-python",
   "name": "python",
   "nbconvert_exporter": "python",
   "pygments_lexer": "ipython3",
   "version": "3.7.1"
  }
 },
 "nbformat": 4,
 "nbformat_minor": 2
}
